{
 "cells": [
  {
   "cell_type": "code",
   "execution_count": 14,
   "id": "29641269-5460-4363-ad80-b0098f220e9a",
   "metadata": {},
   "outputs": [],
   "source": [
    "from sympy import Eq\n",
    "from sympy import init_printing, pretty_print\n",
    "from sympy import solve, simplify, sqrt, factor\n",
    "from sympy import symbols"
   ]
  },
  {
   "cell_type": "markdown",
   "id": "735b2589-f216-4776-a24e-0652dd38c541",
   "metadata": {},
   "source": [
    "# Aaa\n",
    "## aaa\n",
    "\n",
    "Let:"
   ]
  },
  {
   "cell_type": "code",
   "execution_count": 11,
   "id": "f50e7f8d-2930-49dd-8550-ce9d568284b8",
   "metadata": {},
   "outputs": [
    {
     "data": {
      "text/latex": [
       "$\\displaystyle x' = \\frac{- t u + x}{\\sqrt{1 - \\frac{u^{2}}{c^{2}}}}$"
      ],
      "text/plain": [
       "Eq(x', (-t*u + x)/sqrt(1 - u**2/c**2))"
      ]
     },
     "execution_count": 11,
     "metadata": {},
     "output_type": "execute_result"
    }
   ],
   "source": [
    "x,  t  = symbols('x t')\n",
    "x_, t_ = symbols('x\\' t\\'')\n",
    "u,  c  = symbols('u c')\n",
    "\n",
    "a = sqrt(1 - u**2/c**2)\n",
    "b = u/c**2\n",
    "\n",
    "eq_x = Eq(x_, (x - u*t)/a)\n",
    "eq_t = Eq(t_, (t - b*x)/a)\n",
    "\n",
    "eq_x"
   ]
  },
  {
   "cell_type": "code",
   "execution_count": 9,
   "id": "db02bd6f-310b-4048-83b8-551caac6ec51",
   "metadata": {},
   "outputs": [
    {
     "data": {
      "text/latex": [
       "$\\displaystyle t' = \\frac{t - \\frac{u x}{c^{2}}}{\\sqrt{1 - \\frac{u^{2}}{c^{2}}}}$"
      ],
      "text/plain": [
       "Eq(t', (t - u*x/c**2)/sqrt(1 - u**2/c**2))"
      ]
     },
     "execution_count": 9,
     "metadata": {},
     "output_type": "execute_result"
    }
   ],
   "source": [
    "eq_t = Eq(t_, (t - b*x)/a)\n",
    "eq_t"
   ]
  },
  {
   "cell_type": "markdown",
   "id": "9a6a5ae9-0ee5-4a40-88ab-a20bfb7f938b",
   "metadata": {},
   "source": [
    "Solve for (x, t):"
   ]
  },
  {
   "cell_type": "code",
   "execution_count": 18,
   "id": "a7eebca7-ee16-41e7-8eb0-163eef0ebd50",
   "metadata": {},
   "outputs": [
    {
     "data": {
      "text/latex": [
       "$\\displaystyle x = \\frac{c^{2} \\sqrt{\\frac{c^{2} - u^{2}}{c^{2}}} \\left(t' u + x'\\right)}{c^{2} - u^{2}}$"
      ],
      "text/plain": [
       "Eq(x, c**2*sqrt((c**2 - u**2)/c**2)*(t'*u + x')/(c**2 - u**2))"
      ]
     },
     "execution_count": 18,
     "metadata": {},
     "output_type": "execute_result"
    }
   ],
   "source": [
    "res = solve([eq_x, eq_t], x, t)\n",
    "\n",
    "res_x = res[x]\n",
    "res_t = res[t]\n",
    "\n",
    "Eq(x, simplify(factor(res_x, 1/a)))"
   ]
  },
  {
   "cell_type": "code",
   "execution_count": 20,
   "id": "074a424f-8173-4a14-b1fc-ac2c964be36b",
   "metadata": {},
   "outputs": [
    {
     "data": {
      "text/latex": [
       "$\\displaystyle t = \\frac{\\sqrt{\\frac{c^{2} - u^{2}}{c^{2}}} \\left(- c^{2} t' - u x'\\right)}{- c^{2} + u^{2}}$"
      ],
      "text/plain": [
       "Eq(t, sqrt((c**2 - u**2)/c**2)*(-c**2*t' - u*x')/(-c**2 + u**2))"
      ]
     },
     "execution_count": 20,
     "metadata": {},
     "output_type": "execute_result"
    }
   ],
   "source": [
    "Eq(t, factor(res_t, 1/a))\n"
   ]
  }
 ],
 "metadata": {
  "kernelspec": {
   "display_name": "Python 3",
   "language": "python",
   "name": "python3"
  },
  "language_info": {
   "codemirror_mode": {
    "name": "ipython",
    "version": 3
   },
   "file_extension": ".py",
   "mimetype": "text/x-python",
   "name": "python",
   "nbconvert_exporter": "python",
   "pygments_lexer": "ipython3",
   "version": "3.8.8"
  }
 },
 "nbformat": 4,
 "nbformat_minor": 5
}
